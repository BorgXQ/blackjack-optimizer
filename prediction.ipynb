{
 "cells": [
  {
   "cell_type": "code",
   "execution_count": 1,
   "id": "d8de3434",
   "metadata": {},
   "outputs": [],
   "source": [
    "import numpy as np\n",
    "import pandas as pd\n",
    "from typing import List"
   ]
  },
  {
   "cell_type": "code",
   "execution_count": 41,
   "id": "0f147acb",
   "metadata": {},
   "outputs": [],
   "source": [
    "def state_representation(df: pd.DataFrame, player_values: List[int], dealer_visible: int, have_split: bool):\n",
    "    for i in player_values:\n",
    "        if i > 11:\n",
    "            print(\"Card values cannot exceed 11\\n\")\n",
    "            return (\"NO_DATA\", \"-999\", \"NO_DATA\")\n",
    "        elif i < 1:\n",
    "            print(\"Card values cannot be less than 1\\n\")\n",
    "            return (\"NO_DATA\", \"-999\", \"NO_DATA\")\n",
    "        \n",
    "    player_sum = np.sum(player_values)\n",
    "    usable_ace = False\n",
    "    can_double = False\n",
    "    can_split = False\n",
    "\n",
    "    if 1 or 11 in player_values:\n",
    "        usable_ace = True\n",
    "        player_sum += 10 if player_sum + 10 <= 21 else 0\n",
    "    if len(player_values) == 2:\n",
    "        can_double = True\n",
    "        if not have_split:\n",
    "            if player_values[0] == player_values[1]:\n",
    "                can_split = True\n",
    "            elif (player_values[0] == 1 or player_values[0] == 11) and (player_values[1] == 1 or player_values[1] == 11):\n",
    "                can_split = True\n",
    "\n",
    "    matched_row = df[\n",
    "        (df[\"player_sum\"] == player_sum) &\n",
    "        (df[\"dealer_visible\"] == dealer_visible) &\n",
    "        (df[\"usable_ace\"] == usable_ace) &\n",
    "        (df[\"can_split\"] == can_split) &\n",
    "        (df[\"can_double\"] == can_double)\n",
    "    ]\n",
    "    \n",
    "    if not matched_row.empty:\n",
    "        print(f'{matched_row[[\"player_sum\", \"dealer_visible\", \"usable_ace\", \"can_split\", \"can_double\"]]}\\n')\n",
    "        return matched_row[[\"best_action\", \"ev\", \"source\"]].values[0]  # Return action and EV as array\n",
    "    else:\n",
    "        print(\"State combination does not exist\\n\")\n",
    "        return (\"NO_DATA\", \"-999\", \"NO_DATA\")"
   ]
  },
  {
   "cell_type": "code",
   "execution_count": 42,
   "id": "cf1720ad",
   "metadata": {},
   "outputs": [],
   "source": [
    "df = pd.read_csv(\"merged_results.csv\")"
   ]
  },
  {
   "cell_type": "code",
   "execution_count": 43,
   "id": "d3077317",
   "metadata": {},
   "outputs": [
    {
     "name": "stdout",
     "output_type": "stream",
     "text": [
      "     player_sum  dealer_visible  usable_ace  can_split  can_double\n",
      "269          12               8        True      False       False\n",
      "\n",
      "Best Action: Hit, EV: -0.4588975384615384, Source: basic, trained\n"
     ]
    }
   ],
   "source": [
    "your_hand = [1, 2, 9]\n",
    "dealer_visible = 8\n",
    "have_split = False\n",
    "\n",
    "action, ev, source = state_representation(df, your_hand, dealer_visible, have_split)\n",
    "print(f\"Best Action: {action}, EV: {ev}, Source: {source}\")"
   ]
  }
 ],
 "metadata": {
  "kernelspec": {
   "display_name": ".venv (3.11.9)",
   "language": "python",
   "name": "python3"
  },
  "language_info": {
   "codemirror_mode": {
    "name": "ipython",
    "version": 3
   },
   "file_extension": ".py",
   "mimetype": "text/x-python",
   "name": "python",
   "nbconvert_exporter": "python",
   "pygments_lexer": "ipython3",
   "version": "3.11.9"
  }
 },
 "nbformat": 4,
 "nbformat_minor": 5
}
