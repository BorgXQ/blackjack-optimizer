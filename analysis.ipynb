{
 "cells": [
  {
   "cell_type": "code",
   "execution_count": 1,
   "id": "964d8eb9",
   "metadata": {},
   "outputs": [],
   "source": [
    "import numpy as np\n",
    "import pandas as pd"
   ]
  },
  {
   "cell_type": "code",
   "execution_count": 2,
   "id": "387a5b92",
   "metadata": {},
   "outputs": [
    {
     "data": {
      "text/html": [
       "<div>\n",
       "<style scoped>\n",
       "    .dataframe tbody tr th:only-of-type {\n",
       "        vertical-align: middle;\n",
       "    }\n",
       "\n",
       "    .dataframe tbody tr th {\n",
       "        vertical-align: top;\n",
       "    }\n",
       "\n",
       "    .dataframe thead th {\n",
       "        text-align: right;\n",
       "    }\n",
       "</style>\n",
       "<table border=\"1\" class=\"dataframe\">\n",
       "  <thead>\n",
       "    <tr style=\"text-align: right;\">\n",
       "      <th></th>\n",
       "      <th>player_sum</th>\n",
       "      <th>dealer_visible</th>\n",
       "      <th>usable_ace</th>\n",
       "      <th>can_split</th>\n",
       "      <th>can_double</th>\n",
       "      <th>best_action</th>\n",
       "      <th>ev</th>\n",
       "    </tr>\n",
       "  </thead>\n",
       "  <tbody>\n",
       "    <tr>\n",
       "      <th>0</th>\n",
       "      <td>2</td>\n",
       "      <td>2</td>\n",
       "      <td>False</td>\n",
       "      <td>False</td>\n",
       "      <td>True</td>\n",
       "      <td>Hit</td>\n",
       "      <td>-2.0000</td>\n",
       "    </tr>\n",
       "    <tr>\n",
       "      <th>1</th>\n",
       "      <td>2</td>\n",
       "      <td>2</td>\n",
       "      <td>False</td>\n",
       "      <td>False</td>\n",
       "      <td>False</td>\n",
       "      <td>Hit</td>\n",
       "      <td>-0.3482</td>\n",
       "    </tr>\n",
       "    <tr>\n",
       "      <th>2</th>\n",
       "      <td>2</td>\n",
       "      <td>3</td>\n",
       "      <td>False</td>\n",
       "      <td>False</td>\n",
       "      <td>True</td>\n",
       "      <td>Stand</td>\n",
       "      <td>0.0000</td>\n",
       "    </tr>\n",
       "    <tr>\n",
       "      <th>3</th>\n",
       "      <td>2</td>\n",
       "      <td>3</td>\n",
       "      <td>False</td>\n",
       "      <td>False</td>\n",
       "      <td>False</td>\n",
       "      <td>Stand</td>\n",
       "      <td>-0.5000</td>\n",
       "    </tr>\n",
       "    <tr>\n",
       "      <th>4</th>\n",
       "      <td>2</td>\n",
       "      <td>4</td>\n",
       "      <td>False</td>\n",
       "      <td>False</td>\n",
       "      <td>True</td>\n",
       "      <td>Stand</td>\n",
       "      <td>2.0000</td>\n",
       "    </tr>\n",
       "  </tbody>\n",
       "</table>\n",
       "</div>"
      ],
      "text/plain": [
       "   player_sum  dealer_visible  usable_ace  can_split  can_double best_action  \\\n",
       "0           2               2       False      False        True         Hit   \n",
       "1           2               2       False      False       False         Hit   \n",
       "2           2               3       False      False        True       Stand   \n",
       "3           2               3       False      False       False       Stand   \n",
       "4           2               4       False      False        True       Stand   \n",
       "\n",
       "       ev  \n",
       "0 -2.0000  \n",
       "1 -0.3482  \n",
       "2  0.0000  \n",
       "3 -0.5000  \n",
       "4  2.0000  "
      ]
     },
     "execution_count": 2,
     "metadata": {},
     "output_type": "execute_result"
    }
   ],
   "source": [
    "trained_df = pd.read_csv(\"trained_strategy.csv\")\n",
    "trained_df.head(5)"
   ]
  },
  {
   "cell_type": "code",
   "execution_count": 3,
   "id": "4e5bf04f",
   "metadata": {},
   "outputs": [
    {
     "data": {
      "text/html": [
       "<div>\n",
       "<style scoped>\n",
       "    .dataframe tbody tr th:only-of-type {\n",
       "        vertical-align: middle;\n",
       "    }\n",
       "\n",
       "    .dataframe tbody tr th {\n",
       "        vertical-align: top;\n",
       "    }\n",
       "\n",
       "    .dataframe thead th {\n",
       "        text-align: right;\n",
       "    }\n",
       "</style>\n",
       "<table border=\"1\" class=\"dataframe\">\n",
       "  <thead>\n",
       "    <tr style=\"text-align: right;\">\n",
       "      <th></th>\n",
       "      <th>player_sum</th>\n",
       "      <th>dealer_visible</th>\n",
       "      <th>usable_ace</th>\n",
       "      <th>can_split</th>\n",
       "      <th>can_double</th>\n",
       "      <th>best_action</th>\n",
       "      <th>ev</th>\n",
       "    </tr>\n",
       "  </thead>\n",
       "  <tbody>\n",
       "    <tr>\n",
       "      <th>0</th>\n",
       "      <td>2</td>\n",
       "      <td>4</td>\n",
       "      <td>False</td>\n",
       "      <td>False</td>\n",
       "      <td>True</td>\n",
       "      <td>Hit</td>\n",
       "      <td>-0.3137</td>\n",
       "    </tr>\n",
       "    <tr>\n",
       "      <th>1</th>\n",
       "      <td>2</td>\n",
       "      <td>4</td>\n",
       "      <td>False</td>\n",
       "      <td>False</td>\n",
       "      <td>False</td>\n",
       "      <td>Hit</td>\n",
       "      <td>-0.0396</td>\n",
       "    </tr>\n",
       "    <tr>\n",
       "      <th>2</th>\n",
       "      <td>2</td>\n",
       "      <td>5</td>\n",
       "      <td>False</td>\n",
       "      <td>False</td>\n",
       "      <td>True</td>\n",
       "      <td>Hit</td>\n",
       "      <td>-0.2442</td>\n",
       "    </tr>\n",
       "    <tr>\n",
       "      <th>3</th>\n",
       "      <td>2</td>\n",
       "      <td>5</td>\n",
       "      <td>False</td>\n",
       "      <td>False</td>\n",
       "      <td>False</td>\n",
       "      <td>Hit</td>\n",
       "      <td>0.0384</td>\n",
       "    </tr>\n",
       "    <tr>\n",
       "      <th>4</th>\n",
       "      <td>2</td>\n",
       "      <td>6</td>\n",
       "      <td>False</td>\n",
       "      <td>False</td>\n",
       "      <td>True</td>\n",
       "      <td>Hit</td>\n",
       "      <td>0.1599</td>\n",
       "    </tr>\n",
       "  </tbody>\n",
       "</table>\n",
       "</div>"
      ],
      "text/plain": [
       "   player_sum  dealer_visible  usable_ace  can_split  can_double best_action  \\\n",
       "0           2               4       False      False        True         Hit   \n",
       "1           2               4       False      False       False         Hit   \n",
       "2           2               5       False      False        True         Hit   \n",
       "3           2               5       False      False       False         Hit   \n",
       "4           2               6       False      False        True         Hit   \n",
       "\n",
       "       ev  \n",
       "0 -0.3137  \n",
       "1 -0.0396  \n",
       "2 -0.2442  \n",
       "3  0.0384  \n",
       "4  0.1599  "
      ]
     },
     "execution_count": 3,
     "metadata": {},
     "output_type": "execute_result"
    }
   ],
   "source": [
    "basic_df = pd.read_csv(\"basic_strategy.csv\")\n",
    "basic_df.head(5)"
   ]
  },
  {
   "cell_type": "code",
   "execution_count": 4,
   "id": "6aa4d2f7",
   "metadata": {},
   "outputs": [],
   "source": [
    "df = pd.merge(\n",
    "    trained_df,\n",
    "    basic_df,\n",
    "    on=['player_sum', 'dealer_visible', 'usable_ace', 'can_split', 'can_double'],\n",
    "    how='outer',\n",
    "    suffixes=('_trained', '_basic')\n",
    ")"
   ]
  },
  {
   "cell_type": "code",
   "execution_count": 5,
   "id": "229533f3",
   "metadata": {},
   "outputs": [
    {
     "name": "stdout",
     "output_type": "stream",
     "text": [
      "No duplicate rows found.\n"
     ]
    }
   ],
   "source": [
    "if df.duplicated(subset=['player_sum', 'dealer_visible', 'usable_ace', 'can_split', 'can_double']).any():\n",
    "    print(\"Duplicated rows found.\")\n",
    "else:\n",
    "    print(\"No duplicate rows found.\")"
   ]
  },
  {
   "cell_type": "code",
   "execution_count": 6,
   "id": "66e5b499",
   "metadata": {},
   "outputs": [
    {
     "name": "stdout",
     "output_type": "stream",
     "text": [
      "There are 64 rows with missing action data.\n"
     ]
    }
   ],
   "source": [
    "print(f\"There are {df.isna().any(axis=1).sum()} rows with missing action data.\")"
   ]
  },
  {
   "cell_type": "code",
   "execution_count": 7,
   "id": "37c7c76b",
   "metadata": {},
   "outputs": [],
   "source": [
    "def choose_best_action_with_source(row):\n",
    "    trained = row['ev_trained']\n",
    "    basic = row['ev_basic']\n",
    "\n",
    "    if pd.notna(trained) and pd.isna(basic):\n",
    "        return row['best_action_trained'], trained, 'trained'\n",
    "    elif pd.notna(basic) and pd.isna(trained):\n",
    "        return row['best_action_basic'], basic, 'basic'\n",
    "    elif pd.notna(trained) and pd.notna(basic):\n",
    "        if trained >= basic:\n",
    "            return row['best_action_trained'], trained, 'trained'\n",
    "        else:\n",
    "            return row['best_action_basic'], basic, 'basic'\n",
    "    else:\n",
    "        return np.nan, np.nan, np.nan\n",
    "\n",
    "# Apply and split into three columns\n",
    "df[['best_action', 'ev', 'source']] = df.apply(\n",
    "    choose_best_action_with_source, axis=1, result_type='expand'\n",
    ")"
   ]
  },
  {
   "cell_type": "code",
   "execution_count": 9,
   "id": "e4b6bf6e",
   "metadata": {},
   "outputs": [
    {
     "name": "stdout",
     "output_type": "stream",
     "text": [
      "There are 0 rows with missing action data after imputation.\n"
     ]
    }
   ],
   "source": [
    "df_cleaned = df.dropna()\n",
    "\n",
    "print(f\"There are {df_cleaned.isna().any(axis=1).sum()} rows with missing action data after imputation.\")"
   ]
  },
  {
   "cell_type": "code",
   "execution_count": 24,
   "id": "2e8d9c91",
   "metadata": {},
   "outputs": [
    {
     "name": "stdout",
     "output_type": "stream",
     "text": [
      "Among all finalized expected values, 413 are sourced from basic strategy results and 226 from trained model results.\n"
     ]
    }
   ],
   "source": [
    "uniq_source_counts = df_cleaned['source'].value_counts()\n",
    "\n",
    "print(f\"Among all finalized expected values, {uniq_source_counts.iloc[0]} are sourced from basic strategy\\\n",
    " results and {uniq_source_counts.iloc[1]} from trained model results.\")"
   ]
  }
 ],
 "metadata": {
  "kernelspec": {
   "display_name": ".venv (3.11.9)",
   "language": "python",
   "name": "python3"
  },
  "language_info": {
   "codemirror_mode": {
    "name": "ipython",
    "version": 3
   },
   "file_extension": ".py",
   "mimetype": "text/x-python",
   "name": "python",
   "nbconvert_exporter": "python",
   "pygments_lexer": "ipython3",
   "version": "3.11.9"
  }
 },
 "nbformat": 4,
 "nbformat_minor": 5
}
